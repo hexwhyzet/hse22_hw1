{
 "cells": [
  {
   "cell_type": "code",
   "execution_count": 40,
   "outputs": [
    {
     "name": "stdout",
     "output_type": "stream",
     "text": [
      "Contigs:\n",
      " num: 619\n",
      " len: 3926043\n",
      " max len: 129537\n",
      " N50: 44474\n",
      "Scaffold:\n",
      " num: 72\n",
      " len: 3876383\n",
      " max len: 3833100\n",
      " N50: 3833100\n",
      " max len scaffold has 64 gaps and total len of gaps 7199\n",
      "Scaffold (closed gaps):\n",
      " num: 72\n",
      " len: 3916504\n",
      " max len: 3872976\n",
      " N50: 3872976\n",
      " max len scaffold has 9 gaps and total len of gaps 2298\n"
     ]
    }
   ],
   "source": [
    "import re\n",
    "from functools import reduce\n",
    "\n",
    "\n",
    "def stats(filename, label, include_gaps=False, save_longest=False):\n",
    "    data = {}\n",
    "    last_title = \"\"\n",
    "    for line in open(filename, \"r\").readlines():\n",
    "        line = line.strip()\n",
    "        if line.startswith(\">\"):\n",
    "            last_title = line\n",
    "            data[last_title] = \"\"\n",
    "        else:\n",
    "            data[last_title] += line\n",
    "    lens = list(map(len, data.values()))\n",
    "    total_len = reduce(lambda a, b: a + b, lens)\n",
    "    max_len = reduce(lambda a, b: max(a, b), lens)\n",
    "    tmp_len = 0\n",
    "    n50 = 0\n",
    "    for con_len in lens[::-1]:\n",
    "        tmp_len += con_len\n",
    "        if total_len <= 2 * tmp_len:\n",
    "            n50 = con_len\n",
    "            break\n",
    "    ans = f\"{label}:\\n num: {len(data)}\\n len: {total_len}\\n max len: {max_len}\\n N50: {n50}\"\n",
    "    if include_gaps:\n",
    "        max_scaf = max(data.values(), key=len)\n",
    "        if save_longest:\n",
    "            print(max_scaf, file=open(\"data/longest.fasta\", \"w+\"))\n",
    "        gaps = re.findall(r'N+', max_scaf)\n",
    "        gaps_len = sum(map(len, gaps))\n",
    "        ans += f\"\\n max len scaffold has {len(gaps)} gaps and total len of gaps {gaps_len}\"\n",
    "    print(ans)\n",
    "\n",
    "stats(\"data/contig.fa\", \"Contigs\")\n",
    "stats(\"data/scaffold.fa\", \"Scaffold\", True, True)\n",
    "stats(\"data/gapClosed.fa\", \"Scaffold (closed gaps)\", True)"
   ],
   "metadata": {
    "collapsed": false,
    "pycharm": {
     "name": "#%%\n"
    }
   }
  },
  {
   "cell_type": "code",
   "execution_count": 42,
   "outputs": [
    {
     "name": "stdout",
     "output_type": "stream",
     "text": [
      "Бонус\n",
      "Contigs:\n",
      " num: 3465\n",
      " len: 3919993\n",
      " max len: 24133\n",
      " N50: 4593\n",
      "Scaffold:\n",
      " num: 482\n",
      " len: 3860716\n",
      " max len: 790834\n",
      " N50: 610389\n",
      " max len scaffold has 363 gaps and total len of gaps 16326\n",
      "Scaffold (closed gaps):\n",
      " num: 482\n",
      " len: 3847964\n",
      " max len: 788593\n",
      " N50: 608733\n",
      " max len scaffold has 30 gaps and total len of gaps 6876\n"
     ]
    }
   ],
   "source": [
    "print(\"Бонус\")\n",
    "stats(\"data/small_contig.fa\", \"Contigs\")\n",
    "stats(\"data/small_scaffold.fa\", \"Scaffold\", True)\n",
    "stats(\"data/small_gapClosed.fa\", \"Scaffold (closed gaps)\", True)"
   ],
   "metadata": {
    "collapsed": false,
    "pycharm": {
     "name": "#%%\n"
    }
   }
  },
  {
   "cell_type": "code",
   "execution_count": null,
   "outputs": [],
   "source": [],
   "metadata": {
    "collapsed": false,
    "pycharm": {
     "name": "#%%\n"
    }
   }
  }
 ],
 "metadata": {
  "kernelspec": {
   "display_name": "Python 3",
   "language": "python",
   "name": "python3"
  },
  "language_info": {
   "codemirror_mode": {
    "name": "ipython",
    "version": 2
   },
   "file_extension": ".py",
   "mimetype": "text/x-python",
   "name": "python",
   "nbconvert_exporter": "python",
   "pygments_lexer": "ipython2",
   "version": "2.7.6"
  }
 },
 "nbformat": 4,
 "nbformat_minor": 0
}